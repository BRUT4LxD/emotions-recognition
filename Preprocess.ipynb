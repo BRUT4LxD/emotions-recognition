{
 "cells": [
  {
   "cell_type": "code",
   "execution_count": 1,
   "metadata": {},
   "outputs": [],
   "source": [
    "import os\n",
    "import numpy as np\n",
    "\n",
    "#load landmarks\n",
    "\n",
    "def get_file_content(file_name, path):\n",
    "    file = open(os.path.join(path,file_name), \"r\")\n",
    "    contents = file.readlines()\n",
    "    file_content = []\n",
    "    for x in contents:\n",
    "        file_content.append(x.lstrip())\n",
    "        \n",
    "    return file_content\n",
    "\n",
    "def load_landmarks_file(path):\n",
    "    landmark_contents = []\n",
    "    for r, d, file_names in os.walk(path):\n",
    "        for file_name in file_names:\n",
    "            landmark_contents.append(get_file_content(file_name, path))\n",
    "    \n",
    "    return landmark_contents\n",
    "\n",
    "def get_values_from_landmark_contents(landmarks_from_file):\n",
    "    landmarks = []\n",
    "    for file in landmarks_from_file:\n",
    "        coordinates = []\n",
    "        for coords in file:\n",
    "            x, y = coords.split('   ')\n",
    "            coordinates.append((float(x),float(y)))\n",
    "        landmarks.append(coordinates)\n",
    "    return landmarks;\n",
    "\n",
    "def load_landmarks(path):\n",
    "    landmarks_contents = load_landmarks_file(land_path)\n",
    "    return get_values_from_landmark_contents(landmarks_contents)\n"
   ]
  },
  {
   "cell_type": "code",
   "execution_count": 2,
   "metadata": {},
   "outputs": [],
   "source": [
    "import cv2\n",
    "\n",
    "#load images\n",
    "\n",
    "def load_images(path):\n",
    "    images = []\n",
    "    for r, d, file_names in os.walk(path):\n",
    "        for file_name in file_names:\n",
    "            img = cv2.imread(os.path.join(path, file_name))\n",
    "            images.append(img)\n",
    "    return images\n"
   ]
  },
  {
   "cell_type": "code",
   "execution_count": 3,
   "metadata": {},
   "outputs": [],
   "source": [
    "#placing landmarks on images\n",
    "\n",
    "def place_landmarks_on_images(images, landmarks_list):\n",
    "    img_land = []\n",
    "\n",
    "    for img, landmarks in zip(images, landmarks_list):\n",
    "        for x, y in landmarks:\n",
    "            cv2.circle(img, (int(x),int(y)), 2, (0,0,255), -1)\n",
    "        \n",
    "        img_land.append((img, landmarks))\n",
    "        \n",
    "    return img_land"
   ]
  },
  {
   "cell_type": "code",
   "execution_count": 4,
   "metadata": {},
   "outputs": [],
   "source": [
    "img_path = '001-img'\n",
    "land_path = '001-land'\n",
    "landmarks = load_landmarks(land_path)\n",
    "images = load_images(img_path)\n",
    "img_land = place_landmarks_on_images(images, landmarks)"
   ]
  },
  {
   "cell_type": "code",
   "execution_count": 5,
   "metadata": {},
   "outputs": [],
   "source": [
    "for img, land in img_land:\n",
    "    cv2.imshow('img', img)\n",
    "    if cv2.waitKey(0) == 27:\n",
    "        ok_flag = False"
   ]
  },
  {
   "cell_type": "code",
   "execution_count": null,
   "metadata": {},
   "outputs": [],
   "source": []
  }
 ],
 "metadata": {
  "kernelspec": {
   "display_name": "Python 3",
   "language": "python",
   "name": "python3"
  },
  "language_info": {
   "codemirror_mode": {
    "name": "ipython",
    "version": 3
   },
   "file_extension": ".py",
   "mimetype": "text/x-python",
   "name": "python",
   "nbconvert_exporter": "python",
   "pygments_lexer": "ipython3",
   "version": "3.6.6"
  }
 },
 "nbformat": 4,
 "nbformat_minor": 4
}
