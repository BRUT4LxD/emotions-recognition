{
 "cells": [
  {
   "cell_type": "code",
   "execution_count": 101,
   "metadata": {},
   "outputs": [],
   "source": [
    "import os\n",
    "import numpy as np\n",
    "\n",
    "def get_file_content(file_name):\n",
    "    file = open(os.path.join(path,file_name), \"r\")\n",
    "    contents = file.readlines()\n",
    "    file_content = []\n",
    "    for x in contents:\n",
    "        file_content.append(x.lstrip())\n",
    "        \n",
    "    return file_content\n",
    "\n",
    "def load_landmarks(path):\n",
    "    landmark_contents = []\n",
    "    for r, d, file_names in os.walk(path):\n",
    "        for file_name in file_names:\n",
    "            landmark_contents.append(get_file_content(file_name))\n",
    "            \n",
    "    return landmark_contents\n",
    "\n",
    "def load_images(path):\n",
    "    pass\n",
    "\n",
    "def place_landmarks_on_images(images, landmarks):\n",
    "    pass\n"
   ]
  },
  {
   "cell_type": "code",
   "execution_count": 102,
   "metadata": {},
   "outputs": [],
   "source": [
    "img_path = '001-img'\n",
    "land_path = '001-land'\n",
    "landmarks_from_file = load_landmarks(land_path)"
   ]
  },
  {
   "cell_type": "code",
   "execution_count": 105,
   "metadata": {},
   "outputs": [],
   "source": [
    "landmarks = []\n",
    "for file in landmarks_from_file:\n",
    "    coordinates = []\n",
    "    for coords in file:\n",
    "        x, y = coords.split('   ')\n",
    "        coordinates.append((float(x),float(y)))\n",
    "    landmarks.append(coordinates)"
   ]
  },
  {
   "cell_type": "code",
   "execution_count": 106,
   "metadata": {},
   "outputs": [
    {
     "name": "stdout",
     "output_type": "stream",
     "text": [
      "(266.71602, 234.55766)\n",
      "(266.7147, 266.4119)\n",
      "(268.13498, 297.86359)\n",
      "(272.68194, 329.24056)\n",
      "(283.63184, 358.73634)\n",
      "(303.10923, 383.2383)\n",
      "(328.6623, 402.2806)\n",
      "(356.13138, 417.45869)\n",
      "(387.01054, 419.31538)\n",
      "(417.76069, 414.99888)\n",
      "(444.33995, 398.84127)\n",
      "(468.25085, 378.59441)\n",
      "(485.0667, 352.77593)\n",
      "(491.62132, 322.15951)\n",
      "(495.17463, 291.00146)\n",
      "(498.49033, 260.12477)\n",
      "(499.26956, 229.0523)\n",
      "(272.79251, 200.93163)\n",
      "(289.59612, 191.07125)\n",
      "(309.25542, 189.73664)\n",
      "(328.38445, 194.15101)\n",
      "(346.14191, 202.16875)\n",
      "(408.29272, 196.37586)\n",
      "(426.41354, 186.67502)\n",
      "(446.73676, 182.94356)\n",
      "(467.27828, 183.85871)\n",
      "(485.81189, 192.45701)\n",
      "(376.6411, 208.73482)\n",
      "(376.78284, 235.37519)\n",
      "(378.05398, 261.9239)\n",
      "(378.95675, 288.42547)\n",
      "(357.33174, 307.0062)\n",
      "(369.28398, 311.75008)\n",
      "(381.64414, 314.36365)\n",
      "(393.27385, 310.16654)\n",
      "(404.46365, 305.04436)\n",
      "(292.51187, 227.20513)\n",
      "(308.51292, 215.95023)\n",
      "(328.03226, 217.18108)\n",
      "(343.85426, 228.71362)\n",
      "(326.60893, 231.34468)\n",
      "(309.09602, 231.62045)\n",
      "(410.58568, 226.77432)\n",
      "(425.13947, 213.55864)\n",
      "(444.70057, 211.48219)\n",
      "(459.96073, 223.3085)\n",
      "(444.16018, 229.19589)\n",
      "(427.36869, 228.2717)\n",
      "(331.14099, 345.17817)\n",
      "(348.50619, 341.50545)\n",
      "(365.59234, 335.97343)\n",
      "(382.78468, 338.29972)\n",
      "(398.94329, 334.24999)\n",
      "(415.35247, 339.01747)\n",
      "(431.75904, 342.76901)\n",
      "(416.47054, 353.53325)\n",
      "(400.57702, 362.82218)\n",
      "(382.78055, 367.82238)\n",
      "(363.98057, 364.72428)\n",
      "(348.40265, 353.26403)\n",
      "(353.63116, 349.07325)\n",
      "(367.88319, 349.61207)\n",
      "(382.00773, 350.63947)\n",
      "(397.07068, 348.90389)\n",
      "(412.02869, 347.82615)\n",
      "(396.94955, 349.4096)\n",
      "(382.02181, 351.63963)\n",
      "(367.80294, 350.11484)\n"
     ]
    }
   ],
   "source": [
    "for coords in landmarks[0]:\n",
    "    print(coords)"
   ]
  },
  {
   "cell_type": "code",
   "execution_count": null,
   "metadata": {},
   "outputs": [],
   "source": []
  }
 ],
 "metadata": {
  "kernelspec": {
   "display_name": "Python 3",
   "language": "python",
   "name": "python3"
  },
  "language_info": {
   "codemirror_mode": {
    "name": "ipython",
    "version": 3
   },
   "file_extension": ".py",
   "mimetype": "text/x-python",
   "name": "python",
   "nbconvert_exporter": "python",
   "pygments_lexer": "ipython3",
   "version": "3.6.6"
  }
 },
 "nbformat": 4,
 "nbformat_minor": 2
}
